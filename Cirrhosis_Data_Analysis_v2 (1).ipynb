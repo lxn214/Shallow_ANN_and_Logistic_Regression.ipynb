{
  "nbformat": 4,
  "nbformat_minor": 5,
  "metadata": {
    "noteable-chatgpt": {
      "create_notebook": {
        "openai_conversation_id": "ce7a30ec-4843-5097-8539-74943c90a8aa",
        "openai_ephemeral_user_id": "d3216805-3070-50ae-90b9-d10904c03600",
        "openai_subdivision1_iso_code": "GB-SCT"
      }
    },
    "kernel_info": {
      "name": "python3"
    },
    "kernelspec": {
      "display_name": "Python 3.9",
      "language": "python",
      "name": "python3"
    },
    "selected_hardware_size": "small"
  },
  "cells": [
    {
      "id": "51577481-296d-4d95-b593-bce5363130a0",
      "cell_type": "markdown",
      "source": "# Cirrhosis Data Analysis\nThis notebook aims to analyze the Cirrhosis dataset, which contains clinical data related to primary biliary cirrhosis (PBC) of the liver. The dataset includes various variables like age, sex, presence of ascites, serum bilirubin levels, and more. We will perform Exploratory Data Analysis (EDA) and initial data cleaning.",
      "metadata": {
        "noteable": {
          "cell_type": "markdown"
        }
      }
    },
    {
      "id": "c902ec0c-80e5-4572-8899-99ab71a026ec",
      "cell_type": "code",
      "metadata": {
        "noteable": {
          "cell_type": "code",
          "output_collection_id": "8530daaf-94c4-4295-9212-8e4561c565ab"
        },
        "ExecuteTime": {
          "end_time": "2023-09-06T18:17:49.016291+00:00",
          "start_time": "2023-09-06T18:17:48.377265+00:00"
        },
        "datalink": {
          "aeef0a8b-7cde-472c-af91-84b9115e28f4": {
            "applied_filters": [],
            "dataframe_info": {
              "default_index_used": true,
              "orig_num_cols": 20,
              "orig_num_rows": 5,
              "orig_size_bytes": 840,
              "truncated_num_cols": 20,
              "truncated_num_rows": 5,
              "truncated_size_bytes": 840,
              "truncated_string_columns": []
            },
            "display_id": "aeef0a8b-7cde-472c-af91-84b9115e28f4",
            "dx_settings": {
              "ALLOW_NOTEABLE_ATTRS": true,
              "COLUMN_SAMPLING_METHOD": "outer",
              "DB_LOCATION": ":memory:",
              "DEV_MODE": false,
              "DISPLAY_MAX_COLUMNS": 100,
              "DISPLAY_MAX_ROWS": 50000,
              "DISPLAY_MODE": "simple",
              "ENABLE_ASSIGNMENT": true,
              "ENABLE_DATALINK": true,
              "FLATTEN_COLUMN_VALUES": true,
              "FLATTEN_INDEX_VALUES": false,
              "GENERATE_DEX_METADATA": false,
              "HTML_TABLE_SCHEMA": false,
              "LOG_LEVEL": 30,
              "MAX_RENDER_SIZE_BYTES": 104857600,
              "MAX_STRING_LENGTH": 250,
              "NUM_PAST_SAMPLES_TRACKED": 3,
              "RANDOM_STATE": 12648430,
              "RESET_INDEX_VALUES": false,
              "ROW_SAMPLING_METHOD": "random",
              "SAMPLING_FACTOR": 0.1,
              "SAMPLING_METHOD": "random",
              "STRINGIFY_COLUMN_VALUES": true,
              "STRINGIFY_INDEX_VALUES": false
            },
            "sample_history": [],
            "sampling_time": "2023-09-06T18:17:48.850853",
            "user_variable_name": null,
            "variable_name": "unk_dataframe_b61628c153974dceb7b8a6c13f4e93d8"
          }
        }
      },
      "execution_count": null,
      "source": "# Importing necessary libraries\nimport pandas as pd\nimport matplotlib.pyplot as plt\nimport seaborn as sns\n# Reading the dataset\n# Note: Replace the file path with the actual path to the 'Cirrhosis - Cirrhosis.csv' file\ncirrhosis_data = pd.read_csv('Cirrhosis - Cirrhosis.csv')\n# Displaying the first few rows of the dataset\ncirrhosis_data.head()",
      "outputs": []
    },
    {
      "id": "ca316521-210a-4e91-8e2a-0819d14750b4",
      "cell_type": "code",
      "metadata": {
        "noteable": {
          "cell_type": "code",
          "output_collection_id": "ee7a37ab-bb4b-4955-b48a-8ef8dc1d7209"
        },
        "ExecuteTime": {
          "end_time": "2023-09-06T18:18:02.615866+00:00",
          "start_time": "2023-09-06T18:18:02.435886+00:00"
        },
        "datalink": {
          "62fa65a5-51fb-4b96-bead-ae67791bbbca": {
            "applied_filters": [],
            "dataframe_info": {
              "default_index_used": false,
              "orig_num_cols": 1,
              "orig_num_rows": 20,
              "orig_size_bytes": 320,
              "truncated_num_cols": 1,
              "truncated_num_rows": 20,
              "truncated_size_bytes": 320,
              "truncated_string_columns": []
            },
            "display_id": "62fa65a5-51fb-4b96-bead-ae67791bbbca",
            "dx_settings": {
              "ALLOW_NOTEABLE_ATTRS": true,
              "COLUMN_SAMPLING_METHOD": "outer",
              "DB_LOCATION": ":memory:",
              "DEV_MODE": false,
              "DISPLAY_MAX_COLUMNS": 100,
              "DISPLAY_MAX_ROWS": 50000,
              "DISPLAY_MODE": "simple",
              "ENABLE_ASSIGNMENT": true,
              "ENABLE_DATALINK": true,
              "FLATTEN_COLUMN_VALUES": true,
              "FLATTEN_INDEX_VALUES": false,
              "GENERATE_DEX_METADATA": false,
              "HTML_TABLE_SCHEMA": false,
              "LOG_LEVEL": 30,
              "MAX_RENDER_SIZE_BYTES": 104857600,
              "MAX_STRING_LENGTH": 250,
              "NUM_PAST_SAMPLES_TRACKED": 3,
              "RANDOM_STATE": 12648430,
              "RESET_INDEX_VALUES": false,
              "ROW_SAMPLING_METHOD": "random",
              "SAMPLING_FACTOR": 0.1,
              "SAMPLING_METHOD": "random",
              "STRINGIFY_COLUMN_VALUES": true,
              "STRINGIFY_INDEX_VALUES": false
            },
            "sample_history": [],
            "sampling_time": "2023-09-06T18:18:02.458110",
            "user_variable_name": "missing_values",
            "variable_name": "missing_values"
          }
        }
      },
      "execution_count": null,
      "source": "# Checking for missing values in the dataset\nmissing_values = cirrhosis_data.isnull().sum()\nmissing_values",
      "outputs": []
    },
    {
      "id": "555c7f7e-82ae-48e6-b14f-af66e90208f6",
      "cell_type": "markdown",
      "source": "## Data Cleaning\nUpon checking for missing values, we found that the 'triglicerides' column has 30 missing values and the 'copper' column has 2 missing values. We need to decide how to handle these missing values.",
      "metadata": {
        "noteable": {
          "cell_type": "markdown"
        }
      }
    },
    {
      "id": "02aaba11-3b87-415c-b9dd-d3d978411eb9",
      "cell_type": "code",
      "metadata": {
        "jupyter": {
          "outputs_hidden": false,
          "source_hidden": false
        },
        "noteable": {
          "cell_type": "code"
        }
      },
      "execution_count": null,
      "source": "",
      "outputs": []
    },
    {
      "id": "c139a5d4-b4dd-4b88-8dc4-16bc7479e8f9",
      "cell_type": "code",
      "metadata": {
        "noteable": {
          "cell_type": "code",
          "output_collection_id": "ae87bb75-305b-4d4f-9192-5bf89ed65975"
        },
        "ExecuteTime": {
          "end_time": "2023-09-06T18:18:35.319849+00:00",
          "start_time": "2023-09-06T18:18:35.138193+00:00"
        },
        "datalink": {
          "e1f54db1-d435-47a7-8c53-2d00337e32bb": {
            "applied_filters": [],
            "dataframe_info": {
              "default_index_used": false,
              "orig_num_cols": 1,
              "orig_num_rows": 20,
              "orig_size_bytes": 320,
              "truncated_num_cols": 1,
              "truncated_num_rows": 20,
              "truncated_size_bytes": 320,
              "truncated_string_columns": []
            },
            "display_id": "e1f54db1-d435-47a7-8c53-2d00337e32bb",
            "dx_settings": {
              "ALLOW_NOTEABLE_ATTRS": true,
              "COLUMN_SAMPLING_METHOD": "outer",
              "DB_LOCATION": ":memory:",
              "DEV_MODE": false,
              "DISPLAY_MAX_COLUMNS": 100,
              "DISPLAY_MAX_ROWS": 50000,
              "DISPLAY_MODE": "simple",
              "ENABLE_ASSIGNMENT": true,
              "ENABLE_DATALINK": true,
              "FLATTEN_COLUMN_VALUES": true,
              "FLATTEN_INDEX_VALUES": false,
              "GENERATE_DEX_METADATA": false,
              "HTML_TABLE_SCHEMA": false,
              "LOG_LEVEL": 30,
              "MAX_RENDER_SIZE_BYTES": 104857600,
              "MAX_STRING_LENGTH": 250,
              "NUM_PAST_SAMPLES_TRACKED": 3,
              "RANDOM_STATE": 12648430,
              "RESET_INDEX_VALUES": false,
              "ROW_SAMPLING_METHOD": "random",
              "SAMPLING_FACTOR": 0.1,
              "SAMPLING_METHOD": "random",
              "STRINGIFY_COLUMN_VALUES": true,
              "STRINGIFY_INDEX_VALUES": false
            },
            "sample_history": [],
            "sampling_time": "2023-09-06T18:18:35.161998",
            "user_variable_name": null,
            "variable_name": "unk_dataframe_d06367fe5705417a94d5b8fc58f97cec"
          }
        }
      },
      "execution_count": null,
      "source": "# Handling missing values by replacing them with the median value of the respective columns\ncirrhosis_data['triglicerides'].fillna(cirrhosis_data['triglicerides'].median(), inplace=True)\ncirrhosis_data['copper'].fillna(cirrhosis_data['copper'].median(), inplace=True)\n# Confirming that there are no more missing values\ncirrhosis_data.isnull().sum()",
      "outputs": []
    },
    {
      "id": "c86c4f32-fa27-45d3-be77-aef3db6f3324",
      "cell_type": "markdown",
      "source": "## Exploratory Data Analysis (EDA)\nWith the missing values handled, let's move on to the Exploratory Data Analysis. We will visualize the data to understand its distribution and relationships between variables.",
      "metadata": {
        "noteable": {
          "cell_type": "markdown"
        }
      }
    },
    {
      "id": "cdd519d9-a718-4c51-ab5f-ceb223af7045",
      "cell_type": "code",
      "metadata": {
        "noteable": {
          "cell_type": "code",
          "output_collection_id": "aac7ad15-dc48-4145-8337-4dc07608edf6"
        },
        "ExecuteTime": {
          "end_time": "2023-09-06T18:19:04.616788+00:00",
          "start_time": "2023-09-06T18:19:04.233657+00:00"
        }
      },
      "execution_count": null,
      "source": "# Pie chart for the 'status' variable\nstatus_counts = cirrhosis_data['status'].value_counts()\nlabels = ['Censored', 'Censored due to liver tx', 'Death']\nplt.figure(figsize=(8, 6))\nplt.pie(status_counts, labels=labels, autopct='%1.1f%%', startangle=90)\nplt.title('Distribution of Status')\nplt.show()",
      "outputs": []
    },
    {
      "id": "f0ca2763-9647-4b3c-a15b-d058a1fb8b25",
      "cell_type": "code",
      "metadata": {
        "noteable": {
          "cell_type": "code",
          "output_collection_id": "ea40d08f-ad14-4811-a902-4ae38d3c291b"
        },
        "ExecuteTime": {
          "end_time": "2023-09-06T18:19:19.988278+00:00",
          "start_time": "2023-09-06T18:19:19.614752+00:00"
        }
      },
      "execution_count": null,
      "source": "# Histogram for the 'age' variable\nplt.figure(figsize=(8, 6))\nplt.hist(cirrhosis_data['age'], bins=20, color='blue', edgecolor='black')\nplt.title('Distribution of Age in Days')\nplt.xlabel('Age in Days')\nplt.ylabel('Frequency')\nplt.show()",
      "outputs": []
    },
    {
      "id": "efd33796-74b1-43a4-99e2-85117c8b4c3b",
      "cell_type": "markdown",
      "source": "## Summary\nThe dataset contains clinical data related to primary biliary cirrhosis (PBC) of the liver. We performed initial data cleaning to handle missing values in the 'triglicerides' and 'copper' columns. The EDA revealed the distribution of 'status' and 'age' variables. The cleaned dataset is now ready for further analysis by the modeling team.",
      "metadata": {
        "noteable": {
          "cell_type": "markdown"
        }
      }
    }
  ]
}